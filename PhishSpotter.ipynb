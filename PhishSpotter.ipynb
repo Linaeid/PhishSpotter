{
  "cells": [
    {
      "cell_type": "markdown",
      "metadata": {
        "id": "2wsOPz7oHVKs"
      },
      "source": [
        "#PhishSpotter\n",
        "Phishing websites are becoming more prevalent and dangerous as they deceive individuals into revealing important information such as passwords and financial data. These websites frequently resemble authentic ones, confusing those who visit to identify the danger. As online transactions increase, the identification of phishing sites becomes increasingly vital for user protection.\n",
        "\n",
        "Our objective is to develop a solution that can adapt to the ever-evolving characteristics of phishing websites. In this project, our solution involves developing machine-learning algorithms, specifically Logistic Regression (LR) and Support Vector Machine (SVM), and also developing deep-learning algorithms, specifically Recurring Neural Network (RNN), to accurately detect phishing websites and help improve online security."
      ]
    },
    {
      "cell_type": "markdown",
      "metadata": {
        "id": "VWyfxClMP91D"
      },
      "source": [
        "These are all the packages required for the machine-learning process."
      ]
    },
    {
      "cell_type": "code",
      "execution_count": null,
      "metadata": {
        "id": "kFmxZVtTQJll"
      },
      "outputs": [],
      "source": [
        "import pandas as pd\n",
        "import numpy as np\n",
        "import matplotlib.pyplot as plt\n",
        "import seaborn as sns\n",
        "from sklearn.model_selection import train_test_split, GridSearchCV\n",
        "from sklearn.preprocessing import StandardScaler\n",
        "from sklearn.linear_model import LogisticRegression\n",
        "from sklearn.metrics import accuracy_score, precision_score, recall_score, f1_score, confusion_matrix, classification_report\n",
        "from scipy.stats import zscore\n",
        "from sklearn.svm import SVC\n",
        "import tensorflow as tf\n",
        "from tensorflow.keras.models import Sequential\n",
        "from tensorflow.keras.layers import LSTM, Dense, Dropout, Input\n",
        "from sklearn.model_selection import KFold\n",
        "from joblib import dump, load"
      ]
    },
    {
      "cell_type": "markdown",
      "metadata": {
        "id": "X3BZ0tta_pRo"
      },
      "source": [
        "##Data Loading and Preprocessing\n",
        "This is where the data is prepared to be used for the machine-learning algorithm.\n",
        "\n",
        "1. Mount Google Drive into Colab"
      ]
    },
    {
      "cell_type": "code",
      "execution_count": null,
      "metadata": {
        "colab": {
          "base_uri": "https://localhost:8080/"
        },
        "id": "AaCvZHd1Yo2t",
        "outputId": "a241891e-2654-40a7-91ab-988e0b7a05ce"
      },
      "outputs": [
        {
          "output_type": "stream",
          "name": "stdout",
          "text": [
            "Mounted at /content/drive\n"
          ]
        }
      ],
      "source": [
        "from google.colab import drive\n",
        "drive.mount(\"/content/drive\")"
      ]
    },
    {
      "cell_type": "markdown",
      "metadata": {
        "id": "YFyCyF4R_33i"
      },
      "source": [
        "2. Load the dataset"
      ]
    },
    {
      "cell_type": "code",
      "execution_count": null,
      "metadata": {
        "colab": {
          "base_uri": "https://localhost:8080/"
        },
        "id": "oYcT3F33JJ5A",
        "outputId": "be3501ff-6aa8-4db7-aba6-19f7aec56c14"
      },
      "outputs": [
        {
          "output_type": "stream",
          "name": "stdout",
          "text": [
            "   index  having_IPhaving_IP_Address  URLURL_Length  Shortining_Service  \\\n",
            "0      1                          -1              1                   1   \n",
            "1      2                           1              1                   1   \n",
            "2      3                           1              0                   1   \n",
            "3      4                           1              0                   1   \n",
            "4      5                           1              0                  -1   \n",
            "\n",
            "   having_At_Symbol  double_slash_redirecting  Prefix_Suffix  \\\n",
            "0                 1                        -1             -1   \n",
            "1                 1                         1             -1   \n",
            "2                 1                         1             -1   \n",
            "3                 1                         1             -1   \n",
            "4                 1                         1             -1   \n",
            "\n",
            "   having_Sub_Domain  SSLfinal_State  Domain_registeration_length  ...  \\\n",
            "0                 -1              -1                           -1  ...   \n",
            "1                  0               1                           -1  ...   \n",
            "2                 -1              -1                           -1  ...   \n",
            "3                 -1              -1                            1  ...   \n",
            "4                  1               1                           -1  ...   \n",
            "\n",
            "   popUpWidnow  Iframe  age_of_domain  DNSRecord  web_traffic  Page_Rank  \\\n",
            "0            1       1             -1         -1           -1         -1   \n",
            "1            1       1             -1         -1            0         -1   \n",
            "2            1       1              1         -1            1         -1   \n",
            "3            1       1             -1         -1            1         -1   \n",
            "4           -1       1             -1         -1            0         -1   \n",
            "\n",
            "   Google_Index  Links_pointing_to_page  Statistical_report  Result  \n",
            "0             1                       1                  -1      -1  \n",
            "1             1                       1                   1      -1  \n",
            "2             1                       0                  -1      -1  \n",
            "3             1                      -1                   1      -1  \n",
            "4             1                       1                   1       1  \n",
            "\n",
            "[5 rows x 32 columns]\n"
          ]
        }
      ],
      "source": [
        "df = pd.read_csv('/content/drive/MyDrive/Colab Notebooks/phishingdataset.csv')\n",
        "#df = pd.read_csv('/content/drive/MyDrive/dataset.csv')\n",
        "\n",
        "# Display the first few rows of the dataset\n",
        "print(df.head())"
      ]
    },
    {
      "cell_type": "markdown",
      "metadata": {
        "id": "Q_HGy4jdAEbE"
      },
      "source": [
        "3. Find redundant data and drop the column."
      ]
    },
    {
      "cell_type": "code",
      "execution_count": null,
      "metadata": {
        "id": "asKLHTpcJKGR"
      },
      "outputs": [],
      "source": [
        "# Dropped redundant column which is 'index'\n",
        "new_df = df.drop(columns=['index'])"
      ]
    },
    {
      "cell_type": "markdown",
      "metadata": {
        "id": "yoDfS58FALQb"
      },
      "source": [
        "4. Find missing data and display"
      ]
    },
    {
      "cell_type": "code",
      "execution_count": null,
      "metadata": {
        "colab": {
          "base_uri": "https://localhost:8080/",
          "height": 1000
        },
        "id": "8cxMoVIxJKJ5",
        "outputId": "cf7e0064-c606-4be0-c721-30f956dcfa8e"
      },
      "outputs": [
        {
          "output_type": "execute_result",
          "data": {
            "text/plain": [
              "having_IPhaving_IP_Address     0\n",
              "URLURL_Length                  0\n",
              "Shortining_Service             0\n",
              "having_At_Symbol               0\n",
              "double_slash_redirecting       0\n",
              "Prefix_Suffix                  0\n",
              "having_Sub_Domain              0\n",
              "SSLfinal_State                 0\n",
              "Domain_registeration_length    0\n",
              "Favicon                        0\n",
              "port                           0\n",
              "HTTPS_token                    0\n",
              "Request_URL                    0\n",
              "URL_of_Anchor                  0\n",
              "Links_in_tags                  0\n",
              "SFH                            0\n",
              "Submitting_to_email            0\n",
              "Abnormal_URL                   0\n",
              "Redirect                       0\n",
              "on_mouseover                   0\n",
              "RightClick                     0\n",
              "popUpWidnow                    0\n",
              "Iframe                         0\n",
              "age_of_domain                  0\n",
              "DNSRecord                      0\n",
              "web_traffic                    0\n",
              "Page_Rank                      0\n",
              "Google_Index                   0\n",
              "Links_pointing_to_page         0\n",
              "Statistical_report             0\n",
              "Result                         0\n",
              "dtype: int64"
            ],
            "text/html": [
              "<div>\n",
              "<style scoped>\n",
              "    .dataframe tbody tr th:only-of-type {\n",
              "        vertical-align: middle;\n",
              "    }\n",
              "\n",
              "    .dataframe tbody tr th {\n",
              "        vertical-align: top;\n",
              "    }\n",
              "\n",
              "    .dataframe thead th {\n",
              "        text-align: right;\n",
              "    }\n",
              "</style>\n",
              "<table border=\"1\" class=\"dataframe\">\n",
              "  <thead>\n",
              "    <tr style=\"text-align: right;\">\n",
              "      <th></th>\n",
              "      <th>0</th>\n",
              "    </tr>\n",
              "  </thead>\n",
              "  <tbody>\n",
              "    <tr>\n",
              "      <th>having_IPhaving_IP_Address</th>\n",
              "      <td>0</td>\n",
              "    </tr>\n",
              "    <tr>\n",
              "      <th>URLURL_Length</th>\n",
              "      <td>0</td>\n",
              "    </tr>\n",
              "    <tr>\n",
              "      <th>Shortining_Service</th>\n",
              "      <td>0</td>\n",
              "    </tr>\n",
              "    <tr>\n",
              "      <th>having_At_Symbol</th>\n",
              "      <td>0</td>\n",
              "    </tr>\n",
              "    <tr>\n",
              "      <th>double_slash_redirecting</th>\n",
              "      <td>0</td>\n",
              "    </tr>\n",
              "    <tr>\n",
              "      <th>Prefix_Suffix</th>\n",
              "      <td>0</td>\n",
              "    </tr>\n",
              "    <tr>\n",
              "      <th>having_Sub_Domain</th>\n",
              "      <td>0</td>\n",
              "    </tr>\n",
              "    <tr>\n",
              "      <th>SSLfinal_State</th>\n",
              "      <td>0</td>\n",
              "    </tr>\n",
              "    <tr>\n",
              "      <th>Domain_registeration_length</th>\n",
              "      <td>0</td>\n",
              "    </tr>\n",
              "    <tr>\n",
              "      <th>Favicon</th>\n",
              "      <td>0</td>\n",
              "    </tr>\n",
              "    <tr>\n",
              "      <th>port</th>\n",
              "      <td>0</td>\n",
              "    </tr>\n",
              "    <tr>\n",
              "      <th>HTTPS_token</th>\n",
              "      <td>0</td>\n",
              "    </tr>\n",
              "    <tr>\n",
              "      <th>Request_URL</th>\n",
              "      <td>0</td>\n",
              "    </tr>\n",
              "    <tr>\n",
              "      <th>URL_of_Anchor</th>\n",
              "      <td>0</td>\n",
              "    </tr>\n",
              "    <tr>\n",
              "      <th>Links_in_tags</th>\n",
              "      <td>0</td>\n",
              "    </tr>\n",
              "    <tr>\n",
              "      <th>SFH</th>\n",
              "      <td>0</td>\n",
              "    </tr>\n",
              "    <tr>\n",
              "      <th>Submitting_to_email</th>\n",
              "      <td>0</td>\n",
              "    </tr>\n",
              "    <tr>\n",
              "      <th>Abnormal_URL</th>\n",
              "      <td>0</td>\n",
              "    </tr>\n",
              "    <tr>\n",
              "      <th>Redirect</th>\n",
              "      <td>0</td>\n",
              "    </tr>\n",
              "    <tr>\n",
              "      <th>on_mouseover</th>\n",
              "      <td>0</td>\n",
              "    </tr>\n",
              "    <tr>\n",
              "      <th>RightClick</th>\n",
              "      <td>0</td>\n",
              "    </tr>\n",
              "    <tr>\n",
              "      <th>popUpWidnow</th>\n",
              "      <td>0</td>\n",
              "    </tr>\n",
              "    <tr>\n",
              "      <th>Iframe</th>\n",
              "      <td>0</td>\n",
              "    </tr>\n",
              "    <tr>\n",
              "      <th>age_of_domain</th>\n",
              "      <td>0</td>\n",
              "    </tr>\n",
              "    <tr>\n",
              "      <th>DNSRecord</th>\n",
              "      <td>0</td>\n",
              "    </tr>\n",
              "    <tr>\n",
              "      <th>web_traffic</th>\n",
              "      <td>0</td>\n",
              "    </tr>\n",
              "    <tr>\n",
              "      <th>Page_Rank</th>\n",
              "      <td>0</td>\n",
              "    </tr>\n",
              "    <tr>\n",
              "      <th>Google_Index</th>\n",
              "      <td>0</td>\n",
              "    </tr>\n",
              "    <tr>\n",
              "      <th>Links_pointing_to_page</th>\n",
              "      <td>0</td>\n",
              "    </tr>\n",
              "    <tr>\n",
              "      <th>Statistical_report</th>\n",
              "      <td>0</td>\n",
              "    </tr>\n",
              "    <tr>\n",
              "      <th>Result</th>\n",
              "      <td>0</td>\n",
              "    </tr>\n",
              "  </tbody>\n",
              "</table>\n",
              "</div><br><label><b>dtype:</b> int64</label>"
            ]
          },
          "metadata": {},
          "execution_count": 5
        }
      ],
      "source": [
        "# Check for missing values\n",
        "missing_values = new_df.isnull().sum()\n",
        "\n",
        "# Output the number of missing values per column\n",
        "missing_values"
      ]
    },
    {
      "cell_type": "markdown",
      "metadata": {
        "id": "u9LdMr8cAUW4"
      },
      "source": [
        "The result above shows that there are no missing values."
      ]
    },
    {
      "cell_type": "markdown",
      "metadata": {
        "id": "vuZ3RljbAVy2"
      },
      "source": [
        "5. Find the number of outliers and where."
      ]
    },
    {
      "cell_type": "code",
      "execution_count": null,
      "metadata": {
        "colab": {
          "base_uri": "https://localhost:8080/"
        },
        "id": "zVKoENm4JKTA",
        "outputId": "30f3fe7f-0bf2-43f4-b3d3-7c5c8fe18dd7"
      },
      "outputs": [
        {
          "output_type": "stream",
          "name": "stdout",
          "text": [
            "having_IPhaving_IP_Address        0\n",
            "URLURL_Length                     0\n",
            "Shortining_Service                0\n",
            "having_At_Symbol                  0\n",
            "double_slash_redirecting          0\n",
            "Prefix_Suffix                     0\n",
            "having_Sub_Domain                 0\n",
            "SSLfinal_State                    0\n",
            "Domain_registeration_length       0\n",
            "Favicon                           0\n",
            "port                              0\n",
            "HTTPS_token                       0\n",
            "Request_URL                       0\n",
            "URL_of_Anchor                     0\n",
            "Links_in_tags                     0\n",
            "SFH                               0\n",
            "Submitting_to_email               0\n",
            "Abnormal_URL                      0\n",
            "Redirect                          0\n",
            "on_mouseover                      0\n",
            "RightClick                      476\n",
            "popUpWidnow                       0\n",
            "Iframe                         1012\n",
            "age_of_domain                     0\n",
            "DNSRecord                         0\n",
            "web_traffic                       0\n",
            "Page_Rank                         0\n",
            "Google_Index                      0\n",
            "Links_pointing_to_page            0\n",
            "Statistical_report                0\n",
            "Result                            0\n",
            "dtype: int64\n"
          ]
        }
      ],
      "source": [
        "z_scores = new_df.apply(zscore)\n",
        "threshold = 3\n",
        "outliers = (z_scores > threshold) | (z_scores < -threshold)\n",
        "outliers_count = outliers.sum()\n",
        "print(outliers_count)"
      ]
    },
    {
      "cell_type": "markdown",
      "metadata": {
        "id": "6imapxhkAgPb"
      },
      "source": [
        "The above results show that the column 'RightClick' has 476 outliers and 'Iframe' has 1012 outliers."
      ]
    },
    {
      "cell_type": "markdown",
      "metadata": {
        "id": "POcZoCkGAhWV"
      },
      "source": [
        "6. Since the dataset has only binary or categorical data, scaling is not necessary and therefore skipped.\n",
        "\n",
        "7. So, the next step is to split the data into training and testing test. We chose the random 80-20 split."
      ]
    },
    {
      "cell_type": "code",
      "execution_count": null,
      "metadata": {
        "colab": {
          "base_uri": "https://localhost:8080/"
        },
        "id": "ELNxdIOxAVRh",
        "outputId": "a696539f-1680-4737-fcd9-a2bbe00328ca"
      },
      "outputs": [
        {
          "output_type": "execute_result",
          "data": {
            "text/plain": [
              "((8844, 30), (2211, 30), (8844,), (2211,))"
            ]
          },
          "metadata": {},
          "execution_count": 7
        }
      ],
      "source": [
        "from sklearn.model_selection import train_test_split\n",
        "\n",
        "X = new_df.drop(columns=['Result'])\n",
        "y = new_df['Result']\n",
        "\n",
        "X_train, X_test, y_train, y_test = train_test_split(X, y, test_size=0.2, random_state=42)\n",
        "\n",
        "X_train.shape, X_test.shape, y_train.shape, y_test.shape"
      ]
    },
    {
      "cell_type": "markdown",
      "metadata": {
        "id": "K1OpXQTjAp-z"
      },
      "source": [
        "The result shows that the data set has 8,844 rows and 30 columns in the training set (8844,30). The test set contains 2,211 samples and 30 columns (2211,30). The training label contains 8,844 entries (8844,) while the test label contains 2211 entries (2211,).\n"
      ]
    },
    {
      "cell_type": "markdown",
      "metadata": {
        "id": "zeO_ox3PF9t1"
      },
      "source": [
        "8. The labels are formatted correctly for binary classification. Specifically, the labels should be 0 for phishing and 1 for legitimate websites."
      ]
    },
    {
      "cell_type": "code",
      "execution_count": null,
      "metadata": {
        "id": "T7RqNIz8CYGq"
      },
      "outputs": [],
      "source": [
        "# Assuming the target variable is in the last column and features are all numeric\n",
        "X = df.iloc[:, :-1].values  # Features\n",
        "y = df.iloc[:, -1].values  # Target (1 for legitimate, -1 for phishing)\n",
        "\n",
        "# Convert target labels to 0 for phishing and 1 for legitimate\n",
        "y = np.where(y == -1, 0, 1)\n",
        "\n",
        "# Preprocess the data\n",
        "scaler = StandardScaler()\n",
        "X_scaled = scaler.fit_transform(X)\n",
        "X_train_scaled = scaler.fit_transform(X_train)\n",
        "X_test_scaled = scaler.transform(X_test)"
      ]
    },
    {
      "cell_type": "markdown",
      "metadata": {
        "id": "E6-KA6RKaeH9"
      },
      "source": [
        "# MODEL LR\n"
      ]
    },
    {
      "cell_type": "code",
      "execution_count": null,
      "metadata": {
        "id": "owFVROiTaj0o"
      },
      "outputs": [],
      "source": [
        "# Logistic Regression Model with Hyperparameter Tuning using GridSearchCV\n",
        "# Define the parameter grid for hyperparameter tuning\n",
        "param_grid = {\n",
        "    'C': [0.1, 1, 10, 100],  # Regularization strength\n",
        "    'penalty': ['l1', 'l2'],  # L1 and L2 regularization\n",
        "    'solver': ['liblinear']   # Solver to be used with l1 and l2 penalties\n",
        "}"
      ]
    },
    {
      "cell_type": "markdown",
      "metadata": {
        "id": "ZvuC8sGoay-Z"
      },
      "source": [
        "### Initialize the Logistic Regression model"
      ]
    },
    {
      "cell_type": "code",
      "execution_count": null,
      "metadata": {
        "id": "ZABGRETcauoX"
      },
      "outputs": [],
      "source": [
        "log_reg = LogisticRegression()"
      ]
    },
    {
      "cell_type": "markdown",
      "metadata": {
        "id": "pVVZVj1ebOWg"
      },
      "source": [
        "###Use GridSearchCV, Fit the model with the training data\n"
      ]
    },
    {
      "cell_type": "code",
      "execution_count": null,
      "metadata": {
        "colab": {
          "base_uri": "https://localhost:8080/",
          "height": 152
        },
        "id": "ka_zNHlWbNqv",
        "outputId": "59bb5f9f-6757-4798-e813-a0489e7cad49"
      },
      "outputs": [
        {
          "output_type": "stream",
          "name": "stdout",
          "text": [
            "Fitting 5 folds for each of 8 candidates, totalling 40 fits\n"
          ]
        },
        {
          "output_type": "execute_result",
          "data": {
            "text/plain": [
              "GridSearchCV(cv=5, estimator=LogisticRegression(),\n",
              "             param_grid={'C': [0.1, 1, 10, 100], 'penalty': ['l1', 'l2'],\n",
              "                         'solver': ['liblinear']},\n",
              "             scoring='accuracy', verbose=1)"
            ],
            "text/html": [
              "<style>#sk-container-id-1 {\n",
              "  /* Definition of color scheme common for light and dark mode */\n",
              "  --sklearn-color-text: black;\n",
              "  --sklearn-color-line: gray;\n",
              "  /* Definition of color scheme for unfitted estimators */\n",
              "  --sklearn-color-unfitted-level-0: #fff5e6;\n",
              "  --sklearn-color-unfitted-level-1: #f6e4d2;\n",
              "  --sklearn-color-unfitted-level-2: #ffe0b3;\n",
              "  --sklearn-color-unfitted-level-3: chocolate;\n",
              "  /* Definition of color scheme for fitted estimators */\n",
              "  --sklearn-color-fitted-level-0: #f0f8ff;\n",
              "  --sklearn-color-fitted-level-1: #d4ebff;\n",
              "  --sklearn-color-fitted-level-2: #b3dbfd;\n",
              "  --sklearn-color-fitted-level-3: cornflowerblue;\n",
              "\n",
              "  /* Specific color for light theme */\n",
              "  --sklearn-color-text-on-default-background: var(--sg-text-color, var(--theme-code-foreground, var(--jp-content-font-color1, black)));\n",
              "  --sklearn-color-background: var(--sg-background-color, var(--theme-background, var(--jp-layout-color0, white)));\n",
              "  --sklearn-color-border-box: var(--sg-text-color, var(--theme-code-foreground, var(--jp-content-font-color1, black)));\n",
              "  --sklearn-color-icon: #696969;\n",
              "\n",
              "  @media (prefers-color-scheme: dark) {\n",
              "    /* Redefinition of color scheme for dark theme */\n",
              "    --sklearn-color-text-on-default-background: var(--sg-text-color, var(--theme-code-foreground, var(--jp-content-font-color1, white)));\n",
              "    --sklearn-color-background: var(--sg-background-color, var(--theme-background, var(--jp-layout-color0, #111)));\n",
              "    --sklearn-color-border-box: var(--sg-text-color, var(--theme-code-foreground, var(--jp-content-font-color1, white)));\n",
              "    --sklearn-color-icon: #878787;\n",
              "  }\n",
              "}\n",
              "\n",
              "#sk-container-id-1 {\n",
              "  color: var(--sklearn-color-text);\n",
              "}\n",
              "\n",
              "#sk-container-id-1 pre {\n",
              "  padding: 0;\n",
              "}\n",
              "\n",
              "#sk-container-id-1 input.sk-hidden--visually {\n",
              "  border: 0;\n",
              "  clip: rect(1px 1px 1px 1px);\n",
              "  clip: rect(1px, 1px, 1px, 1px);\n",
              "  height: 1px;\n",
              "  margin: -1px;\n",
              "  overflow: hidden;\n",
              "  padding: 0;\n",
              "  position: absolute;\n",
              "  width: 1px;\n",
              "}\n",
              "\n",
              "#sk-container-id-1 div.sk-dashed-wrapped {\n",
              "  border: 1px dashed var(--sklearn-color-line);\n",
              "  margin: 0 0.4em 0.5em 0.4em;\n",
              "  box-sizing: border-box;\n",
              "  padding-bottom: 0.4em;\n",
              "  background-color: var(--sklearn-color-background);\n",
              "}\n",
              "\n",
              "#sk-container-id-1 div.sk-container {\n",
              "  /* jupyter's `normalize.less` sets `[hidden] { display: none; }`\n",
              "     but bootstrap.min.css set `[hidden] { display: none !important; }`\n",
              "     so we also need the `!important` here to be able to override the\n",
              "     default hidden behavior on the sphinx rendered scikit-learn.org.\n",
              "     See: https://github.com/scikit-learn/scikit-learn/issues/21755 */\n",
              "  display: inline-block !important;\n",
              "  position: relative;\n",
              "}\n",
              "\n",
              "#sk-container-id-1 div.sk-text-repr-fallback {\n",
              "  display: none;\n",
              "}\n",
              "\n",
              "div.sk-parallel-item,\n",
              "div.sk-serial,\n",
              "div.sk-item {\n",
              "  /* draw centered vertical line to link estimators */\n",
              "  background-image: linear-gradient(var(--sklearn-color-text-on-default-background), var(--sklearn-color-text-on-default-background));\n",
              "  background-size: 2px 100%;\n",
              "  background-repeat: no-repeat;\n",
              "  background-position: center center;\n",
              "}\n",
              "\n",
              "/* Parallel-specific style estimator block */\n",
              "\n",
              "#sk-container-id-1 div.sk-parallel-item::after {\n",
              "  content: \"\";\n",
              "  width: 100%;\n",
              "  border-bottom: 2px solid var(--sklearn-color-text-on-default-background);\n",
              "  flex-grow: 1;\n",
              "}\n",
              "\n",
              "#sk-container-id-1 div.sk-parallel {\n",
              "  display: flex;\n",
              "  align-items: stretch;\n",
              "  justify-content: center;\n",
              "  background-color: var(--sklearn-color-background);\n",
              "  position: relative;\n",
              "}\n",
              "\n",
              "#sk-container-id-1 div.sk-parallel-item {\n",
              "  display: flex;\n",
              "  flex-direction: column;\n",
              "}\n",
              "\n",
              "#sk-container-id-1 div.sk-parallel-item:first-child::after {\n",
              "  align-self: flex-end;\n",
              "  width: 50%;\n",
              "}\n",
              "\n",
              "#sk-container-id-1 div.sk-parallel-item:last-child::after {\n",
              "  align-self: flex-start;\n",
              "  width: 50%;\n",
              "}\n",
              "\n",
              "#sk-container-id-1 div.sk-parallel-item:only-child::after {\n",
              "  width: 0;\n",
              "}\n",
              "\n",
              "/* Serial-specific style estimator block */\n",
              "\n",
              "#sk-container-id-1 div.sk-serial {\n",
              "  display: flex;\n",
              "  flex-direction: column;\n",
              "  align-items: center;\n",
              "  background-color: var(--sklearn-color-background);\n",
              "  padding-right: 1em;\n",
              "  padding-left: 1em;\n",
              "}\n",
              "\n",
              "\n",
              "/* Toggleable style: style used for estimator/Pipeline/ColumnTransformer box that is\n",
              "clickable and can be expanded/collapsed.\n",
              "- Pipeline and ColumnTransformer use this feature and define the default style\n",
              "- Estimators will overwrite some part of the style using the `sk-estimator` class\n",
              "*/\n",
              "\n",
              "/* Pipeline and ColumnTransformer style (default) */\n",
              "\n",
              "#sk-container-id-1 div.sk-toggleable {\n",
              "  /* Default theme specific background. It is overwritten whether we have a\n",
              "  specific estimator or a Pipeline/ColumnTransformer */\n",
              "  background-color: var(--sklearn-color-background);\n",
              "}\n",
              "\n",
              "/* Toggleable label */\n",
              "#sk-container-id-1 label.sk-toggleable__label {\n",
              "  cursor: pointer;\n",
              "  display: block;\n",
              "  width: 100%;\n",
              "  margin-bottom: 0;\n",
              "  padding: 0.5em;\n",
              "  box-sizing: border-box;\n",
              "  text-align: center;\n",
              "}\n",
              "\n",
              "#sk-container-id-1 label.sk-toggleable__label-arrow:before {\n",
              "  /* Arrow on the left of the label */\n",
              "  content: \"▸\";\n",
              "  float: left;\n",
              "  margin-right: 0.25em;\n",
              "  color: var(--sklearn-color-icon);\n",
              "}\n",
              "\n",
              "#sk-container-id-1 label.sk-toggleable__label-arrow:hover:before {\n",
              "  color: var(--sklearn-color-text);\n",
              "}\n",
              "\n",
              "/* Toggleable content - dropdown */\n",
              "\n",
              "#sk-container-id-1 div.sk-toggleable__content {\n",
              "  max-height: 0;\n",
              "  max-width: 0;\n",
              "  overflow: hidden;\n",
              "  text-align: left;\n",
              "  /* unfitted */\n",
              "  background-color: var(--sklearn-color-unfitted-level-0);\n",
              "}\n",
              "\n",
              "#sk-container-id-1 div.sk-toggleable__content.fitted {\n",
              "  /* fitted */\n",
              "  background-color: var(--sklearn-color-fitted-level-0);\n",
              "}\n",
              "\n",
              "#sk-container-id-1 div.sk-toggleable__content pre {\n",
              "  margin: 0.2em;\n",
              "  border-radius: 0.25em;\n",
              "  color: var(--sklearn-color-text);\n",
              "  /* unfitted */\n",
              "  background-color: var(--sklearn-color-unfitted-level-0);\n",
              "}\n",
              "\n",
              "#sk-container-id-1 div.sk-toggleable__content.fitted pre {\n",
              "  /* unfitted */\n",
              "  background-color: var(--sklearn-color-fitted-level-0);\n",
              "}\n",
              "\n",
              "#sk-container-id-1 input.sk-toggleable__control:checked~div.sk-toggleable__content {\n",
              "  /* Expand drop-down */\n",
              "  max-height: 200px;\n",
              "  max-width: 100%;\n",
              "  overflow: auto;\n",
              "}\n",
              "\n",
              "#sk-container-id-1 input.sk-toggleable__control:checked~label.sk-toggleable__label-arrow:before {\n",
              "  content: \"▾\";\n",
              "}\n",
              "\n",
              "/* Pipeline/ColumnTransformer-specific style */\n",
              "\n",
              "#sk-container-id-1 div.sk-label input.sk-toggleable__control:checked~label.sk-toggleable__label {\n",
              "  color: var(--sklearn-color-text);\n",
              "  background-color: var(--sklearn-color-unfitted-level-2);\n",
              "}\n",
              "\n",
              "#sk-container-id-1 div.sk-label.fitted input.sk-toggleable__control:checked~label.sk-toggleable__label {\n",
              "  background-color: var(--sklearn-color-fitted-level-2);\n",
              "}\n",
              "\n",
              "/* Estimator-specific style */\n",
              "\n",
              "/* Colorize estimator box */\n",
              "#sk-container-id-1 div.sk-estimator input.sk-toggleable__control:checked~label.sk-toggleable__label {\n",
              "  /* unfitted */\n",
              "  background-color: var(--sklearn-color-unfitted-level-2);\n",
              "}\n",
              "\n",
              "#sk-container-id-1 div.sk-estimator.fitted input.sk-toggleable__control:checked~label.sk-toggleable__label {\n",
              "  /* fitted */\n",
              "  background-color: var(--sklearn-color-fitted-level-2);\n",
              "}\n",
              "\n",
              "#sk-container-id-1 div.sk-label label.sk-toggleable__label,\n",
              "#sk-container-id-1 div.sk-label label {\n",
              "  /* The background is the default theme color */\n",
              "  color: var(--sklearn-color-text-on-default-background);\n",
              "}\n",
              "\n",
              "/* On hover, darken the color of the background */\n",
              "#sk-container-id-1 div.sk-label:hover label.sk-toggleable__label {\n",
              "  color: var(--sklearn-color-text);\n",
              "  background-color: var(--sklearn-color-unfitted-level-2);\n",
              "}\n",
              "\n",
              "/* Label box, darken color on hover, fitted */\n",
              "#sk-container-id-1 div.sk-label.fitted:hover label.sk-toggleable__label.fitted {\n",
              "  color: var(--sklearn-color-text);\n",
              "  background-color: var(--sklearn-color-fitted-level-2);\n",
              "}\n",
              "\n",
              "/* Estimator label */\n",
              "\n",
              "#sk-container-id-1 div.sk-label label {\n",
              "  font-family: monospace;\n",
              "  font-weight: bold;\n",
              "  display: inline-block;\n",
              "  line-height: 1.2em;\n",
              "}\n",
              "\n",
              "#sk-container-id-1 div.sk-label-container {\n",
              "  text-align: center;\n",
              "}\n",
              "\n",
              "/* Estimator-specific */\n",
              "#sk-container-id-1 div.sk-estimator {\n",
              "  font-family: monospace;\n",
              "  border: 1px dotted var(--sklearn-color-border-box);\n",
              "  border-radius: 0.25em;\n",
              "  box-sizing: border-box;\n",
              "  margin-bottom: 0.5em;\n",
              "  /* unfitted */\n",
              "  background-color: var(--sklearn-color-unfitted-level-0);\n",
              "}\n",
              "\n",
              "#sk-container-id-1 div.sk-estimator.fitted {\n",
              "  /* fitted */\n",
              "  background-color: var(--sklearn-color-fitted-level-0);\n",
              "}\n",
              "\n",
              "/* on hover */\n",
              "#sk-container-id-1 div.sk-estimator:hover {\n",
              "  /* unfitted */\n",
              "  background-color: var(--sklearn-color-unfitted-level-2);\n",
              "}\n",
              "\n",
              "#sk-container-id-1 div.sk-estimator.fitted:hover {\n",
              "  /* fitted */\n",
              "  background-color: var(--sklearn-color-fitted-level-2);\n",
              "}\n",
              "\n",
              "/* Specification for estimator info (e.g. \"i\" and \"?\") */\n",
              "\n",
              "/* Common style for \"i\" and \"?\" */\n",
              "\n",
              ".sk-estimator-doc-link,\n",
              "a:link.sk-estimator-doc-link,\n",
              "a:visited.sk-estimator-doc-link {\n",
              "  float: right;\n",
              "  font-size: smaller;\n",
              "  line-height: 1em;\n",
              "  font-family: monospace;\n",
              "  background-color: var(--sklearn-color-background);\n",
              "  border-radius: 1em;\n",
              "  height: 1em;\n",
              "  width: 1em;\n",
              "  text-decoration: none !important;\n",
              "  margin-left: 1ex;\n",
              "  /* unfitted */\n",
              "  border: var(--sklearn-color-unfitted-level-1) 1pt solid;\n",
              "  color: var(--sklearn-color-unfitted-level-1);\n",
              "}\n",
              "\n",
              ".sk-estimator-doc-link.fitted,\n",
              "a:link.sk-estimator-doc-link.fitted,\n",
              "a:visited.sk-estimator-doc-link.fitted {\n",
              "  /* fitted */\n",
              "  border: var(--sklearn-color-fitted-level-1) 1pt solid;\n",
              "  color: var(--sklearn-color-fitted-level-1);\n",
              "}\n",
              "\n",
              "/* On hover */\n",
              "div.sk-estimator:hover .sk-estimator-doc-link:hover,\n",
              ".sk-estimator-doc-link:hover,\n",
              "div.sk-label-container:hover .sk-estimator-doc-link:hover,\n",
              ".sk-estimator-doc-link:hover {\n",
              "  /* unfitted */\n",
              "  background-color: var(--sklearn-color-unfitted-level-3);\n",
              "  color: var(--sklearn-color-background);\n",
              "  text-decoration: none;\n",
              "}\n",
              "\n",
              "div.sk-estimator.fitted:hover .sk-estimator-doc-link.fitted:hover,\n",
              ".sk-estimator-doc-link.fitted:hover,\n",
              "div.sk-label-container:hover .sk-estimator-doc-link.fitted:hover,\n",
              ".sk-estimator-doc-link.fitted:hover {\n",
              "  /* fitted */\n",
              "  background-color: var(--sklearn-color-fitted-level-3);\n",
              "  color: var(--sklearn-color-background);\n",
              "  text-decoration: none;\n",
              "}\n",
              "\n",
              "/* Span, style for the box shown on hovering the info icon */\n",
              ".sk-estimator-doc-link span {\n",
              "  display: none;\n",
              "  z-index: 9999;\n",
              "  position: relative;\n",
              "  font-weight: normal;\n",
              "  right: .2ex;\n",
              "  padding: .5ex;\n",
              "  margin: .5ex;\n",
              "  width: min-content;\n",
              "  min-width: 20ex;\n",
              "  max-width: 50ex;\n",
              "  color: var(--sklearn-color-text);\n",
              "  box-shadow: 2pt 2pt 4pt #999;\n",
              "  /* unfitted */\n",
              "  background: var(--sklearn-color-unfitted-level-0);\n",
              "  border: .5pt solid var(--sklearn-color-unfitted-level-3);\n",
              "}\n",
              "\n",
              ".sk-estimator-doc-link.fitted span {\n",
              "  /* fitted */\n",
              "  background: var(--sklearn-color-fitted-level-0);\n",
              "  border: var(--sklearn-color-fitted-level-3);\n",
              "}\n",
              "\n",
              ".sk-estimator-doc-link:hover span {\n",
              "  display: block;\n",
              "}\n",
              "\n",
              "/* \"?\"-specific style due to the `<a>` HTML tag */\n",
              "\n",
              "#sk-container-id-1 a.estimator_doc_link {\n",
              "  float: right;\n",
              "  font-size: 1rem;\n",
              "  line-height: 1em;\n",
              "  font-family: monospace;\n",
              "  background-color: var(--sklearn-color-background);\n",
              "  border-radius: 1rem;\n",
              "  height: 1rem;\n",
              "  width: 1rem;\n",
              "  text-decoration: none;\n",
              "  /* unfitted */\n",
              "  color: var(--sklearn-color-unfitted-level-1);\n",
              "  border: var(--sklearn-color-unfitted-level-1) 1pt solid;\n",
              "}\n",
              "\n",
              "#sk-container-id-1 a.estimator_doc_link.fitted {\n",
              "  /* fitted */\n",
              "  border: var(--sklearn-color-fitted-level-1) 1pt solid;\n",
              "  color: var(--sklearn-color-fitted-level-1);\n",
              "}\n",
              "\n",
              "/* On hover */\n",
              "#sk-container-id-1 a.estimator_doc_link:hover {\n",
              "  /* unfitted */\n",
              "  background-color: var(--sklearn-color-unfitted-level-3);\n",
              "  color: var(--sklearn-color-background);\n",
              "  text-decoration: none;\n",
              "}\n",
              "\n",
              "#sk-container-id-1 a.estimator_doc_link.fitted:hover {\n",
              "  /* fitted */\n",
              "  background-color: var(--sklearn-color-fitted-level-3);\n",
              "}\n",
              "</style><div id=\"sk-container-id-1\" class=\"sk-top-container\"><div class=\"sk-text-repr-fallback\"><pre>GridSearchCV(cv=5, estimator=LogisticRegression(),\n",
              "             param_grid={&#x27;C&#x27;: [0.1, 1, 10, 100], &#x27;penalty&#x27;: [&#x27;l1&#x27;, &#x27;l2&#x27;],\n",
              "                         &#x27;solver&#x27;: [&#x27;liblinear&#x27;]},\n",
              "             scoring=&#x27;accuracy&#x27;, verbose=1)</pre><b>In a Jupyter environment, please rerun this cell to show the HTML representation or trust the notebook. <br />On GitHub, the HTML representation is unable to render, please try loading this page with nbviewer.org.</b></div><div class=\"sk-container\" hidden><div class=\"sk-item sk-dashed-wrapped\"><div class=\"sk-label-container\"><div class=\"sk-label fitted sk-toggleable\"><input class=\"sk-toggleable__control sk-hidden--visually\" id=\"sk-estimator-id-1\" type=\"checkbox\" ><label for=\"sk-estimator-id-1\" class=\"sk-toggleable__label fitted sk-toggleable__label-arrow fitted\">&nbsp;&nbsp;GridSearchCV<a class=\"sk-estimator-doc-link fitted\" rel=\"noreferrer\" target=\"_blank\" href=\"https://scikit-learn.org/1.5/modules/generated/sklearn.model_selection.GridSearchCV.html\">?<span>Documentation for GridSearchCV</span></a><span class=\"sk-estimator-doc-link fitted\">i<span>Fitted</span></span></label><div class=\"sk-toggleable__content fitted\"><pre>GridSearchCV(cv=5, estimator=LogisticRegression(),\n",
              "             param_grid={&#x27;C&#x27;: [0.1, 1, 10, 100], &#x27;penalty&#x27;: [&#x27;l1&#x27;, &#x27;l2&#x27;],\n",
              "                         &#x27;solver&#x27;: [&#x27;liblinear&#x27;]},\n",
              "             scoring=&#x27;accuracy&#x27;, verbose=1)</pre></div> </div></div><div class=\"sk-parallel\"><div class=\"sk-parallel-item\"><div class=\"sk-item\"><div class=\"sk-label-container\"><div class=\"sk-label fitted sk-toggleable\"><input class=\"sk-toggleable__control sk-hidden--visually\" id=\"sk-estimator-id-2\" type=\"checkbox\" ><label for=\"sk-estimator-id-2\" class=\"sk-toggleable__label fitted sk-toggleable__label-arrow fitted\">best_estimator_: LogisticRegression</label><div class=\"sk-toggleable__content fitted\"><pre>LogisticRegression(C=0.1, penalty=&#x27;l1&#x27;, solver=&#x27;liblinear&#x27;)</pre></div> </div></div><div class=\"sk-serial\"><div class=\"sk-item\"><div class=\"sk-estimator fitted sk-toggleable\"><input class=\"sk-toggleable__control sk-hidden--visually\" id=\"sk-estimator-id-3\" type=\"checkbox\" ><label for=\"sk-estimator-id-3\" class=\"sk-toggleable__label fitted sk-toggleable__label-arrow fitted\">&nbsp;LogisticRegression<a class=\"sk-estimator-doc-link fitted\" rel=\"noreferrer\" target=\"_blank\" href=\"https://scikit-learn.org/1.5/modules/generated/sklearn.linear_model.LogisticRegression.html\">?<span>Documentation for LogisticRegression</span></a></label><div class=\"sk-toggleable__content fitted\"><pre>LogisticRegression(C=0.1, penalty=&#x27;l1&#x27;, solver=&#x27;liblinear&#x27;)</pre></div> </div></div></div></div></div></div></div></div></div>"
            ]
          },
          "metadata": {},
          "execution_count": 11
        }
      ],
      "source": [
        "# find the best hyperparameters\n",
        "grid_search = GridSearchCV(log_reg, param_grid, cv=5, scoring='accuracy', verbose=1)\n",
        "grid_search.fit(X_train_scaled, y_train)\n"
      ]
    },
    {
      "cell_type": "markdown",
      "metadata": {
        "id": "tw8Gj3rsb97-"
      },
      "source": []
    },
    {
      "cell_type": "code",
      "execution_count": null,
      "metadata": {
        "colab": {
          "base_uri": "https://localhost:8080/"
        },
        "id": "6C5dc3XqcDeA",
        "outputId": "2e78c4c9-ebad-441f-fa09-3d55d074d2fd"
      },
      "outputs": [
        {
          "output_type": "stream",
          "name": "stdout",
          "text": [
            "Best Hyperparameters: {'C': 0.1, 'penalty': 'l1', 'solver': 'liblinear'}\n"
          ]
        }
      ],
      "source": [
        "# Print the best hyperparameters\n",
        "print(\"Best Hyperparameters:\", grid_search.best_params_)"
      ]
    },
    {
      "cell_type": "markdown",
      "metadata": {
        "id": "vf9Pji_BcMTF"
      },
      "source": [
        "###Train the final model, Make predictions"
      ]
    },
    {
      "cell_type": "code",
      "execution_count": null,
      "metadata": {
        "id": "T1tl7-1TcM4E"
      },
      "outputs": [],
      "source": [
        "# Train the final model with the best hyperparameters\n",
        "best_log_reg = grid_search.best_estimator_\n",
        "\n",
        "# Make predictions on the test set\n",
        "y_pred = best_log_reg.predict(X_test_scaled)\n"
      ]
    },
    {
      "cell_type": "markdown",
      "metadata": {
        "id": "rE1G3ZVZczmg"
      },
      "source": []
    },
    {
      "cell_type": "code",
      "execution_count": null,
      "metadata": {
        "colab": {
          "base_uri": "https://localhost:8080/"
        },
        "id": "fjb5lgix8jco",
        "outputId": "3468a834-d687-4bbe-ad0c-0975a8e1e2a1"
      },
      "outputs": [
        {
          "output_type": "stream",
          "name": "stdout",
          "text": [
            "Accuracy: 0.9276\n",
            "Precision: 0.9287\n",
            "Recall: 0.9450\n",
            "F1 Score: 0.9368\n"
          ]
        }
      ],
      "source": [
        "accuracy = accuracy_score(y_test, y_pred)\n",
        "precision = precision_score(y_test, y_pred)\n",
        "recall = recall_score(y_test, y_pred)\n",
        "f1 = f1_score(y_test, y_pred)\n",
        "\n",
        "print(f\"Accuracy: {accuracy:.4f}\")\n",
        "print(f\"Precision: {precision:.4f}\")\n",
        "print(f\"Recall: {recall:.4f}\")\n",
        "print(f\"F1 Score: {f1:.4f}\")"
      ]
    },
    {
      "cell_type": "markdown",
      "metadata": {
        "id": "VpfZ3bY2c4h8"
      },
      "source": [
        "###classification report"
      ]
    },
    {
      "cell_type": "code",
      "execution_count": null,
      "metadata": {
        "colab": {
          "base_uri": "https://localhost:8080/"
        },
        "id": "MzJTqeqBc5FQ",
        "outputId": "f171cb4d-1233-44c1-cb73-53bf33da7530"
      },
      "outputs": [
        {
          "output_type": "stream",
          "name": "stdout",
          "text": [
            "\n",
            "Classification Report:\n",
            "              precision    recall  f1-score   support\n",
            "\n",
            "          -1       0.93      0.90      0.92       956\n",
            "           1       0.93      0.95      0.94      1255\n",
            "\n",
            "    accuracy                           0.93      2211\n",
            "   macro avg       0.93      0.92      0.93      2211\n",
            "weighted avg       0.93      0.93      0.93      2211\n",
            "\n"
          ]
        }
      ],
      "source": [
        "print(\"\\nClassification Report:\")\n",
        "print(classification_report(y_test, y_pred))"
      ]
    },
    {
      "cell_type": "markdown",
      "metadata": {
        "id": "bdSQKTzbdCDt"
      },
      "source": [
        "### Confusion Matrix"
      ]
    },
    {
      "cell_type": "code",
      "execution_count": null,
      "metadata": {
        "colab": {
          "base_uri": "https://localhost:8080/",
          "height": 472
        },
        "id": "KbYTiKMudE-N",
        "outputId": "5fe91103-17ab-4167-aae0-fc91972db24b"
      },
      "outputs": [
        {
          "output_type": "display_data",
          "data": {
            "text/plain": [
              "<Figure size 640x480 with 2 Axes>"
            ],
            "image/png": "[encoded data removed]"
          },
          "metadata": {}
        }
      ],
      "source": [
        "cm = confusion_matrix(y_test, y_pred)\n",
        "sns.heatmap(cm, annot=True, fmt='d', cmap='Blues')\n",
        "plt.xlabel('Predicted')\n",
        "plt.ylabel('Actual')\n",
        "plt.title('Confusion Matrix for Logistic Regression')\n",
        "plt.show()"
      ]
    },
    {
      "cell_type": "markdown",
      "metadata": {
        "id": "wOWWBVXPArFB"
      },
      "source": [
        "# MODEL SVM"
      ]
    },
    {
      "cell_type": "markdown",
      "metadata": {
        "id": "9AHGbslSgzrC"
      },
      "source": [
        "# 1. Model Training\n",
        "This part will create three SVM models using different kernels: RBF, polynomial, and linear."
      ]
    },
    {
      "cell_type": "code",
      "execution_count": null,
      "metadata": {
        "id": "GSNrywsZhlVM"
      },
      "outputs": [],
      "source": [
        "\n",
        "# Train an SVM model with RBF kernel\n",
        "rbf_svm = SVC(kernel='rbf', gamma=0.1, C=10).fit(X_train_scaled, y_train)\n",
        "\n",
        "# Train an SVM model with Polynomial kernel\n",
        "poly_svm = SVC(kernel='poly', degree=3, C=1).fit(X_train_scaled, y_train)\n",
        "\n",
        "# Train an SVM model with Linear kernel\n",
        "linear_svm = SVC(kernel='linear', C=1).fit(X_train_scaled, y_train)\n"
      ]
    },
    {
      "cell_type": "markdown",
      "metadata": {
        "id": "aHRuk4MhhuLB"
      },
      "source": [
        "# 2. Model Testing\n",
        "This part will use the test data to generate predictions from all the three models."
      ]
    },
    {
      "cell_type": "code",
      "execution_count": null,
      "metadata": {
        "id": "ypQ4udJah4vw"
      },
      "outputs": [],
      "source": [
        "# Test the RBF kernel SVM model\n",
        "rbf_pred = rbf_svm.predict(X_test_scaled)\n",
        "\n",
        "# Test the Polynomial kernel SVM model\n",
        "poly_pred = poly_svm.predict(X_test_scaled)\n",
        "\n",
        "# Test the Linear kernel SVM model\n",
        "linear_pred = linear_svm.predict(X_test_scaled)\n"
      ]
    },
    {
      "cell_type": "markdown",
      "metadata": {
        "id": "CeMWNdIEh8fM"
      },
      "source": [
        "# 3. Model Evaluation\n",
        "This part will calculate and print the accuracy and F1 scores for all the three models."
      ]
    },
    {
      "cell_type": "code",
      "execution_count": null,
      "metadata": {
        "colab": {
          "base_uri": "https://localhost:8080/"
        },
        "id": "0UcuxqpKiJT2",
        "outputId": "1648d9ba-99b7-4711-ebb4-6e337cb20879"
      },
      "outputs": [
        {
          "output_type": "stream",
          "name": "stdout",
          "text": [
            "Accuracy (Polynomial Kernel):  95.02\n",
            "F1 (Polynomial Kernel):  95.01\n",
            "Accuracy (RBF Kernel):  96.65\n",
            "F1 (RBF Kernel):  96.65\n",
            "Accuracy (Linear Kernel):  92.85\n",
            "F1 (Linear Kernel):  92.84\n"
          ]
        }
      ],
      "source": [
        "\n",
        "# Evaluate the Polynomial kernel SVM model\n",
        "poly_accuracy = accuracy_score(y_test, poly_pred)\n",
        "poly_f1 = f1_score(y_test, poly_pred, average='weighted')\n",
        "print('Accuracy (Polynomial Kernel): ', \"%.2f\" % (poly_accuracy*100))\n",
        "print('F1 (Polynomial Kernel): ', \"%.2f\" % (poly_f1*100))\n",
        "\n",
        "# Evaluate the RBF kernel SVM model\n",
        "rbf_accuracy = accuracy_score(y_test, rbf_pred)\n",
        "rbf_f1 = f1_score(y_test, rbf_pred, average='weighted')\n",
        "print('Accuracy (RBF Kernel): ', \"%.2f\" % (rbf_accuracy*100))\n",
        "print('F1 (RBF Kernel): ', \"%.2f\" % (rbf_f1*100))\n",
        "\n",
        "# Evaluate the Linear kernel SVM model\n",
        "linear_accuracy = accuracy_score(y_test, linear_pred)\n",
        "linear_f1 = f1_score(y_test, linear_pred, average='weighted')\n",
        "print('Accuracy (Linear Kernel): ', \"%.2f\" % (linear_accuracy*100))\n",
        "print('F1 (Linear Kernel): ', \"%.2f\" % (linear_f1*100))\n"
      ]
    },
    {
      "cell_type": "markdown",
      "metadata": {
        "id": "5eVc6GMJiPJ7"
      },
      "source": [
        "# Finding the Best Parameters using GridSearchCV\n",
        "This part will use GridSearchCV to fine-tune C and gamma parameters for the RBF kernel only Since the it has the best performance among all the three models."
      ]
    },
    {
      "cell_type": "code",
      "execution_count": null,
      "metadata": {
        "colab": {
          "base_uri": "https://localhost:8080/"
        },
        "id": "9ChAPQF5ibj8",
        "outputId": "d71dd024-35b4-4699-9188-2ab037e52802"
      },
      "outputs": [
        {
          "output_type": "stream",
          "name": "stdout",
          "text": [
            "Fitting 5 folds for each of 9 candidates, totalling 45 fits\n",
            "[CV] END ........................C=1, gamma=0.01, kernel=rbf; total time=   1.6s\n",
            "[CV] END ........................C=1, gamma=0.01, kernel=rbf; total time=   1.6s\n",
            "[CV] END ........................C=1, gamma=0.01, kernel=rbf; total time=   1.4s\n",
            "[CV] END ........................C=1, gamma=0.01, kernel=rbf; total time=   1.8s\n",
            "[CV] END ........................C=1, gamma=0.01, kernel=rbf; total time=   1.6s\n",
            "[CV] END .........................C=1, gamma=0.1, kernel=rbf; total time=   3.3s\n",
            "[CV] END .........................C=1, gamma=0.1, kernel=rbf; total time=   2.2s\n",
            "[CV] END .........................C=1, gamma=0.1, kernel=rbf; total time=   1.9s\n",
            "[CV] END .........................C=1, gamma=0.1, kernel=rbf; total time=   1.5s\n",
            "[CV] END .........................C=1, gamma=0.1, kernel=rbf; total time=   1.5s\n",
            "[CV] END ...........................C=1, gamma=1, kernel=rbf; total time=   2.8s\n",
            "[CV] END ...........................C=1, gamma=1, kernel=rbf; total time=   2.8s\n",
            "[CV] END ...........................C=1, gamma=1, kernel=rbf; total time=   4.1s\n",
            "[CV] END ...........................C=1, gamma=1, kernel=rbf; total time=   3.0s\n",
            "[CV] END ...........................C=1, gamma=1, kernel=rbf; total time=   2.8s\n",
            "[CV] END .......................C=10, gamma=0.01, kernel=rbf; total time=   0.7s\n",
            "[CV] END .......................C=10, gamma=0.01, kernel=rbf; total time=   0.7s\n",
            "[CV] END .......................C=10, gamma=0.01, kernel=rbf; total time=   0.7s\n",
            "[CV] END .......................C=10, gamma=0.01, kernel=rbf; total time=   0.8s\n",
            "[CV] END .......................C=10, gamma=0.01, kernel=rbf; total time=   0.7s\n",
            "[CV] END ........................C=10, gamma=0.1, kernel=rbf; total time=   1.7s\n",
            "[CV] END ........................C=10, gamma=0.1, kernel=rbf; total time=   2.2s\n",
            "[CV] END ........................C=10, gamma=0.1, kernel=rbf; total time=   1.9s\n",
            "[CV] END ........................C=10, gamma=0.1, kernel=rbf; total time=   1.5s\n",
            "[CV] END ........................C=10, gamma=0.1, kernel=rbf; total time=   1.5s\n",
            "[CV] END ..........................C=10, gamma=1, kernel=rbf; total time=   2.4s\n",
            "[CV] END ..........................C=10, gamma=1, kernel=rbf; total time=   2.4s\n",
            "[CV] END ..........................C=10, gamma=1, kernel=rbf; total time=   2.8s\n",
            "[CV] END ..........................C=10, gamma=1, kernel=rbf; total time=   3.5s\n",
            "[CV] END ..........................C=10, gamma=1, kernel=rbf; total time=   2.4s\n",
            "[CV] END ......................C=100, gamma=0.01, kernel=rbf; total time=   0.9s\n",
            "[CV] END ......................C=100, gamma=0.01, kernel=rbf; total time=   0.9s\n",
            "[CV] END ......................C=100, gamma=0.01, kernel=rbf; total time=   0.9s\n",
            "[CV] END ......................C=100, gamma=0.01, kernel=rbf; total time=   0.8s\n",
            "[CV] END ......................C=100, gamma=0.01, kernel=rbf; total time=   0.8s\n",
            "[CV] END .......................C=100, gamma=0.1, kernel=rbf; total time=   1.6s\n",
            "[CV] END .......................C=100, gamma=0.1, kernel=rbf; total time=   1.9s\n",
            "[CV] END .......................C=100, gamma=0.1, kernel=rbf; total time=   2.5s\n",
            "[CV] END .......................C=100, gamma=0.1, kernel=rbf; total time=   1.9s\n",
            "[CV] END .......................C=100, gamma=0.1, kernel=rbf; total time=   1.6s\n",
            "[CV] END .........................C=100, gamma=1, kernel=rbf; total time=   2.7s\n",
            "[CV] END .........................C=100, gamma=1, kernel=rbf; total time=   3.1s\n",
            "[CV] END .........................C=100, gamma=1, kernel=rbf; total time=   3.7s\n",
            "[CV] END .........................C=100, gamma=1, kernel=rbf; total time=   4.0s\n",
            "[CV] END .........................C=100, gamma=1, kernel=rbf; total time=   2.4s\n",
            "Best parameters for RBF kernel are: {'C': 100, 'gamma': 0.1, 'kernel': 'rbf'}\n"
          ]
        }
      ],
      "source": [
        "# Define the parameter grid for RBF kernel\n",
        "param_grid = {\n",
        "    'C': [1, 10, 100],\n",
        "    'gamma': [0.01, 0.1, 1],\n",
        "    'kernel': ['rbf']  # Only search within the RBF kernel\n",
        "}\n",
        "\n",
        "# Initialize the SVM model for GridSearchCV\n",
        "svm_model = SVC()\n",
        "\n",
        "# Use GridSearchCV to search for the best combination of parameters for RBF\n",
        "grid_search = GridSearchCV(svm_model, param_grid, cv=5, verbose=2)\n",
        "\n",
        "# Fit the model to the training data\n",
        "grid_search.fit(X_train_scaled, y_train)\n",
        "\n",
        "# Print the best parameters found\n",
        "print(\"Best parameters for RBF kernel are:\", grid_search.best_params_)\n"
      ]
    },
    {
      "cell_type": "code",
      "execution_count": null,
      "metadata": {
        "colab": {
          "base_uri": "https://localhost:8080/"
        },
        "id": "bAJLUjGkqsjL",
        "outputId": "48816933-054a-4507-8db1-fbcaa94dd35a"
      },
      "outputs": [
        {
          "output_type": "stream",
          "name": "stdout",
          "text": [
            "0.94 + or -0.0 for the {'C': 1, 'gamma': 0.01, 'kernel': 'rbf'}\n",
            "0.96 + or -0.0 for the {'C': 1, 'gamma': 0.1, 'kernel': 'rbf'}\n",
            "0.86 + or -0.0 for the {'C': 1, 'gamma': 1, 'kernel': 'rbf'}\n",
            "0.95 + or -0.0 for the {'C': 10, 'gamma': 0.01, 'kernel': 'rbf'}\n",
            "0.97 + or -0.0 for the {'C': 10, 'gamma': 0.1, 'kernel': 'rbf'}\n",
            "0.87 + or -0.0 for the {'C': 10, 'gamma': 1, 'kernel': 'rbf'}\n",
            "0.96 + or -0.0 for the {'C': 100, 'gamma': 0.01, 'kernel': 'rbf'}\n",
            "0.97 + or -0.0 for the {'C': 100, 'gamma': 0.1, 'kernel': 'rbf'}\n",
            "0.87 + or -0.0 for the {'C': 100, 'gamma': 1, 'kernel': 'rbf'}\n"
          ]
        }
      ],
      "source": [
        "\n",
        "# Get detailed results from the grid search\n",
        "mean_score = grid_search.cv_results_['mean_test_score']\n",
        "std_score = grid_search.cv_results_['std_test_score']\n",
        "params = grid_search.cv_results_['params']\n",
        "\n",
        "# Print the mean score, standard deviation, and parameters\n",
        "for mean, std, params in zip(mean_score, std_score, params):\n",
        "      print(f'{round(mean,2)} + or -{round(std,2)} for the {params}')"
      ]
    },
    {
      "cell_type": "markdown",
      "metadata": {
        "id": "PI-96jCaixjH"
      },
      "source": [
        "# 4. Model Evaluation with Best Parameters\n",
        "This part will use the best-found parameters for the RBF kernel to evaluate the performance again."
      ]
    },
    {
      "cell_type": "code",
      "execution_count": null,
      "metadata": {
        "colab": {
          "base_uri": "https://localhost:8080/"
        },
        "id": "4AI_T_x7jNz2",
        "outputId": "b39d3d54-dc71-4db5-a2c1-2a2ead5de664"
      },
      "outputs": [
        {
          "output_type": "stream",
          "name": "stdout",
          "text": [
            "Accuracy (Best RBF Kernel):  96.65\n",
            "F1 (Best RBF Kernel):  96.65\n"
          ]
        }
      ],
      "source": [
        "# Use the best RBF model from GridSearchCV\n",
        "best_rbf_model = grid_search.best_estimator_\n",
        "\n",
        "# Make predictions using the optimized RBF model\n",
        "best_rbf_pred = best_rbf_model.predict(X_test_scaled)\n",
        "\n",
        "# Evaluate the optimized RBF model\n",
        "best_rbf_accuracy = accuracy_score(y_test, best_rbf_pred)\n",
        "best_rbf_f1 = f1_score(y_test, best_rbf_pred, average='weighted')\n",
        "\n",
        "print('Accuracy (Best RBF Kernel): ', \"%.2f\" % (best_rbf_accuracy*100))\n",
        "print('F1 (Best RBF Kernel): ', \"%.2f\" % (best_rbf_f1*100))\n",
        "\n"
      ]
    },
    {
      "cell_type": "markdown",
      "metadata": {
        "id": "h5nLtIAErgNS"
      },
      "source": [
        "# Classification report"
      ]
    },
    {
      "cell_type": "code",
      "execution_count": null,
      "metadata": {
        "colab": {
          "base_uri": "https://localhost:8080/"
        },
        "id": "Gz9qtSclri_L",
        "outputId": "11e3fa7b-3d7a-48ab-99c7-06df98d806a5"
      },
      "outputs": [
        {
          "output_type": "stream",
          "name": "stdout",
          "text": [
            "              precision    recall  f1-score   support\n",
            "\n",
            "          -1       0.97      0.95      0.96       956\n",
            "           1       0.96      0.98      0.97      1255\n",
            "\n",
            "    accuracy                           0.97      2211\n",
            "   macro avg       0.97      0.96      0.97      2211\n",
            "weighted avg       0.97      0.97      0.97      2211\n",
            "\n"
          ]
        }
      ],
      "source": [
        "# Print the classification report\n",
        "print(classification_report(y_test, best_rbf_pred))\n"
      ]
    },
    {
      "cell_type": "markdown",
      "metadata": {
        "id": "DLKkvuDlrLvU"
      },
      "source": [
        "# Confusion matrix"
      ]
    },
    {
      "cell_type": "code",
      "execution_count": null,
      "metadata": {
        "colab": {
          "base_uri": "https://localhost:8080/",
          "height": 410
        },
        "id": "rjbVRdkNrQoK",
        "outputId": "a4d52ed8-a14f-4786-bebd-59c959958777"
      },
      "outputs": [
        {
          "output_type": "display_data",
          "data": {
            "text/plain": [
              "<Figure size 600x400 with 1 Axes>"
            ],
            "image/png": "[encoded data removed]"
          },
          "metadata": {}
        }
      ],
      "source": [
        "# Compute confusion matrix for the best RBF model\n",
        "conf_matrix = confusion_matrix(y_test, best_rbf_pred)\n",
        "\n",
        "# Plot confusion matrix using seaborn heatmap\n",
        "plt.figure(figsize=(6, 4))\n",
        "sns.heatmap(conf_matrix, annot=True, fmt='d', cmap='Blues', cbar=False,\n",
        "            xticklabels=['Phishing', 'Legitimate'], yticklabels=['Phishing', 'Legitimate'])\n",
        "plt.title('Confusion Matrix - Best RBF Model')\n",
        "plt.xlabel('Predicted Label')\n",
        "plt.ylabel('True Label')\n",
        "plt.show()\n"
      ]
    },
    {
      "cell_type": "markdown",
      "metadata": {
        "id": "ZB0Yp9RGLHl1"
      },
      "source": [
        "#MODEL RNN"
      ]
    },
    {
      "cell_type": "markdown",
      "metadata": {
        "id": "DlzzWDvWLTaX"
      },
      "source": [
        "#1.Data Preprocessing\n",
        "\n"
      ]
    },
    {
      "cell_type": "code",
      "execution_count": null,
      "metadata": {
        "id": "XzzGuJf6Lg1e"
      },
      "outputs": [],
      "source": [
        "# Convert X_train and X_test to NumPy arrays before reshaping\n",
        "X_train_rnn = X_train.values.reshape((X_train.shape[0], X_train.shape[1], 1))\n",
        "X_test_rnn = X_test.values.reshape((X_test.shape[0], X_test.shape[1], 1))\n"
      ]
    },
    {
      "cell_type": "markdown",
      "metadata": {
        "id": "7knbuFw_LvW5"
      },
      "source": [
        "# 2.RUN RNN Model\n",
        " Create the RNN model using LSTM with binary cross-entropy as the loss function and a sigmoid activation function for binary classification (0 or 1)."
      ]
    },
    {
      "cell_type": "code",
      "execution_count": null,
      "metadata": {
        "id": "puXwWGmELl7H"
      },
      "outputs": [],
      "source": [
        "# Define the LSTM-based RNN model\n",
        "def create_rnn_model(optimizer='adam', units=64, dropout_rate=0.3):\n",
        "    model = Sequential()\n",
        "    model.add(Input(shape=(X_train.shape[1], 1)))  # Input layer with the correct input shape\n",
        "    model.add(LSTM(units=units, return_sequences=False))  # LSTM layer\n",
        "    model.add(Dropout(dropout_rate))  # Dropout to prevent overfitting\n",
        "    model.add(Dense(1, activation='sigmoid'))  # Sigmoid activation for binary classification (0 or 1)\n",
        "\n",
        "    # Compile the model with binary cross-entropy\n",
        "    model.compile(optimizer=optimizer, loss='binary_crossentropy', metrics=['accuracy'])\n",
        "    return model\n"
      ]
    },
    {
      "cell_type": "markdown",
      "metadata": {
        "id": "uLSfN7QGL85c"
      },
      "source": [
        "#3.Hyperparameter Tuning Using K-Fold Cross-Validation\n",
        "\n",
        "Perform cross-validation with different hyperparameter configurations to find the best model setup."
      ]
    },
    {
      "cell_type": "code",
      "execution_count": null,
      "metadata": {
        "id": "AmszTIMdMAXn"
      },
      "outputs": [],
      "source": [
        "y_train = y_train.values if isinstance(y_train, pd.Series) else y_train\n",
        "\n",
        "param_grid = {\n",
        "    'units': [32, 64],  # LSTM units\n",
        "    'dropout_rate': [0.2, 0.3],  # Dropout rates to prevent overfitting\n",
        "    'optimizer': ['adam', 'rmsprop'],  # Optimizers to adjust weights\n",
        "    'epochs': [10, 20],  # Number of epochs\n",
        "    'batch_size': [16, 32]  # Batch sizes\n",
        "}\n",
        "\n",
        "# Perform K-Fold Cross-Validation\n",
        "kf = KFold(n_splits=3)\n",
        "best_accuracy = 0\n",
        "best_params = {}\n",
        "\n",
        "for units in param_grid['units']:\n",
        "    for dropout_rate in param_grid['dropout_rate']:\n",
        "        for optimizer in param_grid['optimizer']:\n",
        "            for epochs in param_grid['epochs']:\n",
        "                for batch_size in param_grid['batch_size']:\n",
        "                    for train_idx, val_idx in kf.split(X_train_rnn):\n",
        "                        # Split the training data\n",
        "                        X_train_fold, X_val_fold = X_train_rnn[train_idx], X_train_rnn[val_idx]\n",
        "                        y_train_fold, y_val_fold = y_train[train_idx], y_train[val_idx]\n",
        "\n",
        "                        # Create and train the model\n",
        "                        model = create_rnn_model(units=units, dropout_rate=dropout_rate, optimizer=optimizer)\n",
        "                        model.fit(X_train_fold, y_train_fold, epochs=epochs, batch_size=batch_size, verbose=0)\n",
        "\n",
        "                        # Evaluate on validation data\n",
        "                        val_accuracy = model.evaluate(X_val_fold, y_val_fold, verbose=0)[1]\n",
        "\n",
        "                        if val_accuracy > best_accuracy:\n",
        "                            best_accuracy = val_accuracy\n",
        "                            best_params = {\n",
        "                                'units': units,\n",
        "                                'dropout_rate': dropout_rate,\n",
        "                                'optimizer': optimizer,\n",
        "                                'epochs': epochs,\n",
        "                                'batch_size': batch_size\n",
        "                            }\n",
        "\n",
        "print(f\"Best Hyperparameters: {best_params}\")\n"
      ]
    },
    {
      "cell_type": "markdown",
      "metadata": {
        "id": "oJH1iJwSMMHf"
      },
      "source": [
        "#4.Training the Final Model with Best Hyperparameters\n",
        "\n",
        " best hyperparameters found from cross-validation to train the final model on the entire training dataset."
      ]
    },
    {
      "cell_type": "code",
      "execution_count": null,
      "metadata": {
        "id": "l_6GaeYvMP51",
        "colab": {
          "base_uri": "https://localhost:8080/"
        },
        "outputId": "b0cb039e-7da5-44a2-dcc1-191923c95b95"
      },
      "outputs": [
        {
          "output_type": "stream",
          "name": "stdout",
          "text": [
            "Epoch 1/20\n",
            "\u001b[1m553/553\u001b[0m \u001b[32m━━━━━━━━━━━━━━━━━━━━\u001b[0m\u001b[37m\u001b[0m \u001b[1m4s\u001b[0m 5ms/step - accuracy: 0.1946 - loss: -0.9224\n",
            "Epoch 2/20\n",
            "\u001b[1m553/553\u001b[0m \u001b[32m━━━━━━━━━━━━━━━━━━━━\u001b[0m\u001b[37m\u001b[0m \u001b[1m3s\u001b[0m 6ms/step - accuracy: 0.2528 - loss: -3.8734\n",
            "Epoch 3/20\n",
            "\u001b[1m553/553\u001b[0m \u001b[32m━━━━━━━━━━━━━━━━━━━━\u001b[0m\u001b[37m\u001b[0m \u001b[1m2s\u001b[0m 4ms/step - accuracy: 0.2629 - loss: -7.6070\n",
            "Epoch 4/20\n",
            "\u001b[1m553/553\u001b[0m \u001b[32m━━━━━━━━━━━━━━━━━━━━\u001b[0m\u001b[37m\u001b[0m \u001b[1m2s\u001b[0m 4ms/step - accuracy: 0.2904 - loss: -15.6467\n",
            "Epoch 5/20\n",
            "\u001b[1m553/553\u001b[0m \u001b[32m━━━━━━━━━━━━━━━━━━━━\u001b[0m\u001b[37m\u001b[0m \u001b[1m2s\u001b[0m 4ms/step - accuracy: 0.3175 - loss: -24.1176\n",
            "Epoch 6/20\n",
            "\u001b[1m553/553\u001b[0m \u001b[32m━━━━━━━━━━━━━━━━━━━━\u001b[0m\u001b[37m\u001b[0m \u001b[1m2s\u001b[0m 4ms/step - accuracy: 0.3408 - loss: -31.8960\n",
            "Epoch 7/20\n",
            "\u001b[1m553/553\u001b[0m \u001b[32m━━━━━━━━━━━━━━━━━━━━\u001b[0m\u001b[37m\u001b[0m \u001b[1m4s\u001b[0m 6ms/step - accuracy: 0.3525 - loss: -43.1931\n",
            "Epoch 8/20\n",
            "\u001b[1m553/553\u001b[0m \u001b[32m━━━━━━━━━━━━━━━━━━━━\u001b[0m\u001b[37m\u001b[0m \u001b[1m4s\u001b[0m 4ms/step - accuracy: 0.3532 - loss: -49.9240\n",
            "Epoch 9/20\n",
            "\u001b[1m553/553\u001b[0m \u001b[32m━━━━━━━━━━━━━━━━━━━━\u001b[0m\u001b[37m\u001b[0m \u001b[1m2s\u001b[0m 4ms/step - accuracy: 0.3745 - loss: -62.0924\n",
            "Epoch 10/20\n",
            "\u001b[1m553/553\u001b[0m \u001b[32m━━━━━━━━━━━━━━━━━━━━\u001b[0m\u001b[37m\u001b[0m \u001b[1m2s\u001b[0m 4ms/step - accuracy: 0.3772 - loss: -73.7915\n",
            "Epoch 11/20\n",
            "\u001b[1m553/553\u001b[0m \u001b[32m━━━━━━━━━━━━━━━━━━━━\u001b[0m\u001b[37m\u001b[0m \u001b[1m3s\u001b[0m 5ms/step - accuracy: 0.3725 - loss: -86.8748\n",
            "Epoch 12/20\n",
            "\u001b[1m553/553\u001b[0m \u001b[32m━━━━━━━━━━━━━━━━━━━━\u001b[0m\u001b[37m\u001b[0m \u001b[1m3s\u001b[0m 6ms/step - accuracy: 0.4107 - loss: -93.2363\n",
            "Epoch 13/20\n",
            "\u001b[1m553/553\u001b[0m \u001b[32m━━━━━━━━━━━━━━━━━━━━\u001b[0m\u001b[37m\u001b[0m \u001b[1m2s\u001b[0m 4ms/step - accuracy: 0.3845 - loss: -103.2514\n",
            "Epoch 14/20\n",
            "\u001b[1m553/553\u001b[0m \u001b[32m━━━━━━━━━━━━━━━━━━━━\u001b[0m\u001b[37m\u001b[0m \u001b[1m3s\u001b[0m 4ms/step - accuracy: 0.4129 - loss: -120.2267\n",
            "Epoch 15/20\n",
            "\u001b[1m553/553\u001b[0m \u001b[32m━━━━━━━━━━━━━━━━━━━━\u001b[0m\u001b[37m\u001b[0m \u001b[1m3s\u001b[0m 4ms/step - accuracy: 0.3907 - loss: -129.7500\n",
            "Epoch 16/20\n",
            "\u001b[1m553/553\u001b[0m \u001b[32m━━━━━━━━━━━━━━━━━━━━\u001b[0m\u001b[37m\u001b[0m \u001b[1m2s\u001b[0m 4ms/step - accuracy: 0.4108 - loss: -141.4984\n",
            "Epoch 17/20\n",
            "\u001b[1m553/553\u001b[0m \u001b[32m━━━━━━━━━━━━━━━━━━━━\u001b[0m\u001b[37m\u001b[0m \u001b[1m3s\u001b[0m 6ms/step - accuracy: 0.3877 - loss: -155.4379\n",
            "Epoch 18/20\n",
            "\u001b[1m553/553\u001b[0m \u001b[32m━━━━━━━━━━━━━━━━━━━━\u001b[0m\u001b[37m\u001b[0m \u001b[1m2s\u001b[0m 4ms/step - accuracy: 0.4051 - loss: -161.2199\n",
            "Epoch 19/20\n",
            "\u001b[1m553/553\u001b[0m \u001b[32m━━━━━━━━━━━━━━━━━━━━\u001b[0m\u001b[37m\u001b[0m \u001b[1m2s\u001b[0m 4ms/step - accuracy: 0.4187 - loss: -175.7855\n",
            "Epoch 20/20\n",
            "\u001b[1m553/553\u001b[0m \u001b[32m━━━━━━━━━━━━━━━━━━━━\u001b[0m\u001b[37m\u001b[0m \u001b[1m2s\u001b[0m 4ms/step - accuracy: 0.4144 - loss: -183.3673\n",
            "\u001b[1m70/70\u001b[0m \u001b[32m━━━━━━━━━━━━━━━━━━━━\u001b[0m\u001b[37m\u001b[0m \u001b[1m0s\u001b[0m 2ms/step - accuracy: 0.4295 - loss: -184.8669\n",
            "Test Accuracy: 0.4319\n"
          ]
        }
      ],
      "source": [
        "# Train the final model using the best hyperparameters\n",
        "final_model = create_rnn_model(units=best_params['units'],\n",
        "                               dropout_rate=best_params['dropout_rate'],\n",
        "                               optimizer=best_params['optimizer'])\n",
        "\n",
        "# Train the model\n",
        "final_model.fit(X_train_rnn, y_train, epochs=best_params['epochs'], batch_size=best_params['batch_size'], verbose=1)\n",
        "\n",
        "# Evaluate the final model on the test set\n",
        "test_loss, test_accuracy = final_model.evaluate(X_test_rnn, y_test, verbose=1)\n",
        "\n",
        "print(f\"Test Accuracy: {test_accuracy:.4f}\")"
      ]
    },
    {
      "cell_type": "markdown",
      "metadata": {
        "id": "PtFamIY_Eqec"
      },
      "source": [
        "#VALIDATION"
      ]
    },
    {
      "cell_type": "markdown",
      "metadata": {
        "id": "GCRG7_yZQkjD"
      },
      "source": [
        "####Comparing Performance of Logistic Regression, SVM with RBF Kernel, and RNN Models on Test Set"
      ]
    },
    {
      "cell_type": "code",
      "execution_count": null,
      "metadata": {
        "id": "u1e0Ps1N5Ytw"
      },
      "outputs": [],
      "source": [
        "test_results = {}\n",
        "\n",
        "# Logistic Regression\n",
        "y_pred_log_reg = best_log_reg.predict(X_test_scaled)\n",
        "test_results['Logistic Regression'] = {\n",
        "    'accuracy': accuracy_score(y_test, y_pred_log_reg),\n",
        "    'precision': precision_score(y_test, y_pred_log_reg),\n",
        "    'recall': recall_score(y_test, y_pred_log_reg),\n",
        "    'f1': f1_score(y_test, y_pred_log_reg)\n",
        "}\n",
        "\n"
      ]
    },
    {
      "cell_type": "code",
      "execution_count": null,
      "metadata": {
        "id": "qw-g-vFu7tO-"
      },
      "outputs": [],
      "source": [
        "# SVM with RBF Kernel\n",
        "y_pred_rbf = best_rbf_model.predict(X_test_scaled)\n",
        "test_results['SVM (RBF)'] = {\n",
        "    'accuracy': accuracy_score(y_test, y_pred_rbf),\n",
        "    'precision': precision_score(y_test, y_pred_rbf),\n",
        "    'recall': recall_score(y_test, y_pred_rbf),\n",
        "    'f1': f1_score(y_test, y_pred_rbf)\n",
        "}\n"
      ]
    },
    {
      "cell_type": "code",
      "execution_count": null,
      "metadata": {
        "id": "Yhm8kSaC7tsu",
        "colab": {
          "base_uri": "https://localhost:8080/"
        },
        "outputId": "adffe53c-038b-46f4-d013-4524eadc598d"
      },
      "outputs": [
        {
          "output_type": "stream",
          "name": "stdout",
          "text": [
            "\u001b[1m70/70\u001b[0m \u001b[32m━━━━━━━━━━━━━━━━━━━━\u001b[0m\u001b[37m\u001b[0m \u001b[1m0s\u001b[0m 3ms/step\n"
          ]
        }
      ],
      "source": [
        "# RNN Model\n",
        "y_pred_rnn = (final_model.predict(X_test_rnn) > 0.5).astype(int).ravel()\n",
        "test_results['RNN'] = {\n",
        "    'accuracy': accuracy_score(y_test, y_pred_rnn),\n",
        "    'precision': precision_score(y_test, y_pred_rnn),\n",
        "    'recall': recall_score(y_test, y_pred_rnn),\n",
        "    'f1': f1_score(y_test, y_pred_rnn)\n",
        "}\n",
        "\n"
      ]
    },
    {
      "cell_type": "code",
      "execution_count": null,
      "metadata": {
        "id": "JVatZElh7vYV",
        "colab": {
          "base_uri": "https://localhost:8080/"
        },
        "outputId": "07234ac1-4b1e-44bc-bc73-c4207ce2c4d7"
      },
      "outputs": [
        {
          "output_type": "stream",
          "name": "stdout",
          "text": [
            "\n",
            "Validation Results:\n",
            "Logistic Regression:\n",
            "  accuracy: 0.9272\n",
            "  precision: 0.9287\n",
            "  recall: 0.9442\n",
            "  f1: 0.9364\n",
            "SVM (RBF):\n",
            "  accuracy: 0.9665\n",
            "  precision: 0.9631\n",
            "  recall: 0.9785\n",
            "  f1: 0.9708\n",
            "RNN:\n",
            "  accuracy: 0.8417\n",
            "  precision: 0.9502\n",
            "  recall: 0.7610\n",
            "  f1: 0.8451\n"
          ]
        }
      ],
      "source": [
        "# Display validation results\n",
        "print(\"\\nValidation Results:\")\n",
        "for model_name, metrics in test_results.items():\n",
        "    print(f\"{model_name}:\")\n",
        "    for metric, value in metrics.items():\n",
        "        print(f\"  {metric}: {value:.4f}\")\n"
      ]
    },
    {
      "cell_type": "markdown",
      "metadata": {
        "id": "aFXFWIhi8ylG"
      },
      "source": [
        "####The Results reveal that the SVM with RBF kernel achieved the highest performance across all metrics.This indicates that the RBF kernel was the most effective model for detecting phishing websites, outperforming both Logistic Regression and the RNN model in terms of accuracy and robustness."
      ]
    },
    {
      "cell_type": "markdown",
      "metadata": {
        "id": "E82hf3LSTQC1"
      },
      "source": [
        "#Analyzing the Impact of Regularization Parameter C on Test Accuracy for an SVM with RBF Kernel"
      ]
    },
    {
      "cell_type": "code",
      "execution_count": null,
      "metadata": {
        "id": "bQX_OHDpoG0S",
        "colab": {
          "base_uri": "https://localhost:8080/",
          "height": 554
        },
        "outputId": "6961941c-9b9f-4f30-dcca-63309470c27f"
      },
      "outputs": [
        {
          "output_type": "display_data",
          "data": {
            "text/plain": [
              "<Figure size 1000x600 with 1 Axes>"
            ],
            "image/png": "[encoded data removed]"
          },
          "metadata": {}
        }
      ],
      "source": [
        "# Define a range of C values\n",
        "C_values = np.logspace(-2, 2, 10)  # C values from 0.01 to 100\n",
        "test_accuracies = []\n",
        "\n",
        "# Train and evaluate the model for each C value\n",
        "for C in C_values:\n",
        "    model = SVC(kernel='rbf', gamma=0.1, C=C)\n",
        "    model.fit(X_train_scaled, y_train)\n",
        "\n",
        "    # Evaluate on the test set\n",
        "    test_accuracy = accuracy_score(y_test, model.predict(X_test_scaled))\n",
        "    test_accuracies.append(test_accuracy)\n",
        "\n",
        "# Plotting\n",
        "plt.figure(figsize=(10, 6))\n",
        "plt.plot(C_values, test_accuracies, marker='o')\n",
        "plt.xscale('log')\n",
        "plt.xlabel('Regularization Parameter C (log scale)')\n",
        "plt.ylabel('Test Accuracy')\n",
        "plt.title('Effect of Regularization Parameter C on SVM Performance with RBF Kernel')\n",
        "plt.show()\n"
      ]
    },
    {
      "cell_type": "markdown",
      "metadata": {
        "id": "x8AmHxajLh52"
      },
      "source": [
        "####The plot illustrates how varying the regularization parameter C affects the test accuracy of an SVM with an RBF kernel. At lower values of C, the model's accuracy decreases, likely due to underfitting as it applies stronger regularization. As C increases, test accuracy improves, reaching a peak around C=10^1 and slightly decreasing afterward. This pattern suggests that higher C values, which allow the model to fit the training data more closely, provide better generalization in this case.This pattern suggests that higher C values, which allow the model to fit the training data more closely, provide better generalization in this case. Based on the grid search results, the optimal value for C was found to be C=100, indicating that the model benefits from a relatively high C value to reduce regularization and achieve the best performance."
      ]
    },
    {
      "cell_type": "markdown",
      "metadata": {
        "id": "SNTnjBM6pL5I"
      },
      "source": [
        "add Area Under the Curve (AUC) as part of the evaluation,  for calculating and plotting AUC for Logistic Regression, SVM (RBF kernel), and RNN."
      ]
    },
    {
      "cell_type": "code",
      "execution_count": null,
      "metadata": {
        "id": "mdtpxU27qUx3"
      },
      "outputs": [],
      "source": [
        "from sklearn.metrics import roc_auc_score, roc_curve\n"
      ]
    },
    {
      "cell_type": "markdown",
      "metadata": {
        "id": "kJ4iKtegw4OW"
      },
      "source": [
        "#Logistic Regression AUC"
      ]
    },
    {
      "cell_type": "code",
      "execution_count": null,
      "metadata": {
        "id": "I0R48ujcqiVq",
        "colab": {
          "base_uri": "https://localhost:8080/",
          "height": 489
        },
        "outputId": "44f0be8b-cee2-4aeb-d026-641295f293e4"
      },
      "outputs": [
        {
          "output_type": "display_data",
          "data": {
            "text/plain": [
              "<Figure size 640x480 with 1 Axes>"
            ],
            "image/png": "[encoded data removed]"
          },
          "metadata": {}
        },
        {
          "output_type": "stream",
          "name": "stdout",
          "text": [
            "Logistic Regression AUC: 0.9769\n"
          ]
        }
      ],
      "source": [
        "# Logistic Regression AUC\n",
        "log_reg_auc = roc_auc_score(y_test, best_log_reg.predict_proba(X_test_scaled)[:, 1])\n",
        "fpr, tpr, _ = roc_curve(y_test, best_log_reg.predict_proba(X_test_scaled)[:, 1])\n",
        "\n",
        "plt.figure()\n",
        "plt.plot(fpr, tpr, label=f\"Logistic Regression (AUC = {log_reg_auc:.4f})\")\n",
        "plt.xlabel(\"False Positive Rate\")\n",
        "plt.ylabel(\"True Positive Rate\")\n",
        "plt.title(\"ROC Curve - Logistic Regression\")\n",
        "plt.legend()\n",
        "plt.show()\n",
        "\n",
        "print(f\"Logistic Regression AUC: {log_reg_auc:.4f}\")\n"
      ]
    },
    {
      "cell_type": "markdown",
      "metadata": {
        "id": "qNXuKQKOxLu2"
      },
      "source": [
        "#SVM (RBF Kernel) AUC"
      ]
    },
    {
      "cell_type": "code",
      "execution_count": null,
      "metadata": {
        "id": "alAETt9GxUe7",
        "colab": {
          "base_uri": "https://localhost:8080/",
          "height": 489
        },
        "outputId": "e9467d86-1489-4998-874b-a051da9d04ac"
      },
      "outputs": [
        {
          "output_type": "display_data",
          "data": {
            "text/plain": [
              "<Figure size 640x480 with 1 Axes>"
            ],
            "image/png": "[encoded data removed]"
          },
          "metadata": {}
        },
        {
          "output_type": "stream",
          "name": "stdout",
          "text": [
            "SVM (RBF) AUC: 0.9842\n"
          ]
        }
      ],
      "source": [
        "# SVM (RBF Kernel) AUC\n",
        "svm_auc = roc_auc_score(y_test, best_rbf_model.decision_function(X_test_scaled))\n",
        "fpr, tpr, _ = roc_curve(y_test, best_rbf_model.decision_function(X_test_scaled))\n",
        "\n",
        "plt.figure()\n",
        "plt.plot(fpr, tpr, label=f\"SVM (RBF) (AUC = {svm_auc:.4f})\")\n",
        "plt.xlabel(\"False Positive Rate\")\n",
        "plt.ylabel(\"True Positive Rate\")\n",
        "plt.title(\"ROC Curve - SVM (RBF Kernel)\")\n",
        "plt.legend()\n",
        "plt.show()\n",
        "\n",
        "print(f\"SVM (RBF) AUC: {svm_auc:.4f}\")\n"
      ]
    },
    {
      "cell_type": "markdown",
      "metadata": {
        "id": "kBeJqOWFxYCo"
      },
      "source": [
        "#RNN Model AUC"
      ]
    },
    {
      "cell_type": "code",
      "execution_count": null,
      "metadata": {
        "id": "kpIsfw4XxakF",
        "colab": {
          "base_uri": "https://localhost:8080/",
          "height": 523
        },
        "outputId": "52eb3920-dd49-4df7-e940-48c99158009b"
      },
      "outputs": [
        {
          "output_type": "stream",
          "name": "stdout",
          "text": [
            "\u001b[1m70/70\u001b[0m \u001b[32m━━━━━━━━━━━━━━━━━━━━\u001b[0m\u001b[37m\u001b[0m \u001b[1m0s\u001b[0m 2ms/step\n",
            "\u001b[1m70/70\u001b[0m \u001b[32m━━━━━━━━━━━━━━━━━━━━\u001b[0m\u001b[37m\u001b[0m \u001b[1m0s\u001b[0m 2ms/step\n"
          ]
        },
        {
          "output_type": "display_data",
          "data": {
            "text/plain": [
              "<Figure size 640x480 with 1 Axes>"
            ],
            "image/png": "[encoded data removed]"
          },
          "metadata": {}
        },
        {
          "output_type": "stream",
          "name": "stdout",
          "text": [
            "RNN AUC: 0.9105\n"
          ]
        }
      ],
      "source": [
        "# RNN AUC\n",
        "rnn_auc = roc_auc_score(y_test, final_model.predict(X_test_rnn).ravel())\n",
        "fpr, tpr, _ = roc_curve(y_test, final_model.predict(X_test_rnn).ravel())\n",
        "\n",
        "plt.figure()\n",
        "plt.plot(fpr, tpr, label=f\"RNN (AUC = {rnn_auc:.4f})\")\n",
        "plt.xlabel(\"False Positive Rate\")\n",
        "plt.ylabel(\"True Positive Rate\")\n",
        "plt.title(\"ROC Curve - RNN\")\n",
        "plt.legend()\n",
        "plt.show()\n",
        "\n",
        "print(f\"RNN AUC: {rnn_auc:.4f}\")\n"
      ]
    },
    {
      "cell_type": "markdown",
      "metadata": {
        "id": "ZkRCjerx_TJH"
      },
      "source": []
    },
    {
      "cell_type": "markdown",
      "metadata": {
        "id": "rznPwWeXiszK"
      },
      "source": [
        "\n",
        "\n",
        "\n",
        "\n",
        "The AUC results reveal that the SVM (RBF) model performs best with an AUC of 0.9842, indicating strong capability in distinguishing phishing websites. Logistic Regression follows closely with an AUC of 0.9769, showing it to be a competitive, simpler alternative. The RNN model, with an AUC of 0.9185, performs adequately but is less effective than SVM andLogistic Regression"
      ]
    },
    {
      "cell_type": "code",
      "execution_count": null,
      "metadata": {
        "id": "FzHviLSYNrOp"
      },
      "outputs": [],
      "source": []
    }
  ],
  "metadata": {
    "accelerator": "GPU",
    "colab": {
      "gpuType": "T4",
      "machine_shape": "hm",
      "provenance": []
    },
    "kernelspec": {
      "display_name": "Python 3",
      "name": "python3"
    },
    "language_info": {
      "name": "python"
    }
  },
  "nbformat": 4,
  "nbformat_minor": 0
}